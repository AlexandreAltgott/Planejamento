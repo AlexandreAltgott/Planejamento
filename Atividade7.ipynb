{
 "cells": [
  {
   "cell_type": "code",
   "execution_count": 10,
   "metadata": {},
   "outputs": [
    {
     "name": "stdout",
     "output_type": "stream",
     "text": [
      "['ADTERM.DAT', 'AGRINT.DAT', 'ARQUIVOS.DAT', 'BID.DAT', 'CASO.DAT', 'CDEFVAR.DAT', 'CLAST.DAT', 'CONFHD.DAT', 'CONFT.DAT', 'CURVA.DAT', 'CVAR.DAT', 'C_ADIC.DAT', 'DGER.DAT', 'DSVAGUA.DAT', 'ELNINO.DAT', 'ENSOAUX.DAT', 'EXPH.DAT', 'EXPT.DAT', 'FORMAT.TMP', 'GHMIN.DAT', 'GTMINPAT.DAT', 'GTMIN_CCEE_072023.xlsx', 'HIDR.DAT', 'ITAIPU.DAT', 'LOSS.DAT', 'MANUTT.DAT', 'MENSAG.TMP', 'MODIF.DAT', 'NewaveMsgPortug.txt', 'PATAMAR.DAT', 'PENALID.DAT', 'POSTOS.DAT', 'RE.DAT', 'REE.DAT', 'selcor.dat', 'SHIST.DAT', 'SISTEMA.DAT', 'tecno.dat', 'TERM.DAT', 'VAZOES.DAT', 'VAZPAST.DAT']\n"
     ]
    }
   ],
   "source": [
    "# from google.colab import drive, files\n",
    "import os\n",
    "\n",
    "#Montar o Google Drive no Colab com o nome gdrive\n",
    "\n",
    "Caminho_do_Arquivo = 'Dados_Newave_jul_2023/'\n",
    "\n",
    "# O comando abaixo mostra qual diretório você está trabalhando momento.\n",
    "# print( os.getcwd() )\n",
    "\n",
    "\n",
    "# O comando mostra o que está presente dentro da minha pasta GIF no meu drive, que está dentro do meu drive e em Doutorado. Mudar para o diretório que vocês criaram.\n",
    "print( os.listdir(Caminho_do_Arquivo) )"
   ]
  },
  {
   "cell_type": "code",
   "execution_count": 11,
   "metadata": {},
   "outputs": [
    {
     "name": "stdout",
     "output_type": "stream",
     "text": [
      "OK! Leitura do CASO.DAT realizada com sucesso.\n",
      "OK! Leitura do ARQUIVOS.DAT realizada com sucesso.\n",
      "OK! Leitura do DGER.DAT realizada com sucesso.\n",
      "OK! Leitura do HIDR.DAT realizada com sucesso.\n",
      "OK! Leitura do VAZOES.DAT realizada com sucesso.\n",
      "OK! Leitura do MODIF.DAT realizada com sucesso. ( 99 Usinas Hidraulicas Modificadas )\n",
      "OK! Leitura do EXPH.DAT realizada com sucesso. ( 2 Usinas Hidraulicas Expandidas )\n",
      "OK! Leitura do CONFHD.DAT realizada com sucesso.\n",
      "OK! Leitura do REE.DAT realizada com sucesso. ( 12 Reservatórios Equivalentes de Energia Foram Lidos )\n",
      "OK! Leitura do SISTEMA.DAT realizada com sucesso.\n"
     ]
    }
   ],
   "source": [
    "from PySDDP.Pen import Newave\n",
    "\n",
    "PMOSET2023 = Newave(Caminho_do_Arquivo)"
   ]
  },
  {
   "cell_type": "code",
   "execution_count": 19,
   "metadata": {},
   "outputs": [],
   "source": [
    "Usina = PMOSET2023.confhd.get(291)\n",
    "ano = 2021 - 1931\n",
    "mes = 0\n",
    "EAmax = 0\n",
    "EAR = 0\n",
    "ENA = 0\n",
    "EFio = 0\n",
    "ro_fio = 0\n",
    "\n",
    "\n",
    "ro = Usina['ro_equiv'][0][0]\n",
    "if Usina['vol_max'] == Usina['vol_min']:\n",
    "    ro_fio += Usina['ro_65'][0][0]\n",
    "\n",
    "\n",
    "\n",
    "Usina2 = PMOSET2023.confhd.get(Usina['jusante'])\n",
    "\n",
    "ro += Usina2['ro_equiv'][0][0] \n",
    "if Usina2['vol_max'] == Usina2['vol_min']:\n",
    "    ro_fio += Usina2['ro_65'][0][0]\n",
    "\n",
    "while Usina2['jusante'] != 0:\n",
    "    Usina2 = PMOSET2023.confhd.get(Usina2['jusante'])\n",
    "    ro += Usina2['ro_equiv'][0][0] \n",
    "    if Usina2['vol_max'] == Usina2['vol_min']:\n",
    "        ro_fio += Usina2['ro_65'][0][0]\n",
    "\n",
    "\n",
    "EAmax += (Usina['vol_max'] - Usina['vol_min'])*ro/2.63\n",
    "EAR += (Usina['vol_max'] - Usina['vol_min'])*(Usina['vol_ini']/100)*ro/2.63\n",
    "ENA += Usina['vazoes'][ano][mes]*Usina['ro_65'][0][0] \n",
    "if Usina['vol_max'] == Usina['vol_min']:\n",
    "    E_fio = Usina['vazoes'][ano][mes]*ro_fio\n",
    "\n",
    "vazao_ant = Usina['vazoes'][ano][mes]\n",
    "\n",
    "\n",
    "while Usina['jusante'] != 0:\n",
    "    \n",
    "    Usina = PMOSET2023.confhd.get(Usina['jusante'])\n",
    "\n",
    "    vazao_atual = Usina['vazoes'][ano][mes]\n",
    "\n",
    "    vazao_inc = vazao_atual - vazao_ant\n",
    "\n",
    "    ro = 0\n",
    "    ro_fio = 0\n",
    "\n",
    "    ro += Usina['ro_equiv'][0][0] \n",
    "    if Usina['vol_max'] == Usina['vol_min']:\n",
    "        ro_fio += Usina['ro_65'][0][0]\n",
    "\n",
    "    if Usina['jusante'] != 0:\n",
    "\n",
    "        Usina2 = PMOSET2023.confhd.get(Usina['jusante'])\n",
    "\n",
    "        ro += Usina2['ro_equiv'][0][0] \n",
    "        if Usina2['vol_max'] == Usina2['vol_min']:\n",
    "            ro_fio += Usina2['ro_65'][0][0]\n",
    "\n",
    "\n",
    "        while Usina2['jusante'] != 0:\n",
    "            Usina2 = PMOSET2023.confhd.get(Usina2['jusante'])\n",
    "            ro += Usina2['ro_equiv'][0][0] \n",
    "            if Usina2['vol_max'] == Usina2['vol_min']:\n",
    "                ro_fio += Usina2['ro_65'][0][0]\n",
    "\n",
    "    \n",
    "\n",
    "\n",
    "    EAmax += (Usina['vol_max'] - Usina['vol_min'])*ro/2.63\n",
    "    EAR += (Usina['vol_max'] - Usina['vol_min'])*(Usina['vol_ini']/100)*ro/2.63\n",
    "\n",
    "    ENA += Usina['vazoes'][ano][mes]*Usina['ro_65'][0][0] \n",
    "    if Usina['vol_max'] == Usina['vol_min']:\n",
    "        E_fio += vazao_inc*ro_fio\n",
    "        \n",
    "\n",
    "    vazao_ant = vazao_atual\n",
    "\n",
    "\n",
    "\n"
   ]
  },
  {
   "cell_type": "code",
   "execution_count": 20,
   "metadata": {},
   "outputs": [
    {
     "name": "stdout",
     "output_type": "stream",
     "text": [
      "14380.893549978486\n",
      "14057.754627589591\n",
      "4350.386804679025\n",
      "463.86457263357175\n"
     ]
    }
   ],
   "source": [
    "\n",
    "\n",
    "\n",
    "print(EAmax)\n",
    "print(EAR)\n",
    "print(ENA)\n",
    "print(E_fio)"
   ]
  }
 ],
 "metadata": {
  "kernelspec": {
   "display_name": "env",
   "language": "python",
   "name": "python3"
  },
  "language_info": {
   "codemirror_mode": {
    "name": "ipython",
    "version": 3
   },
   "file_extension": ".py",
   "mimetype": "text/x-python",
   "name": "python",
   "nbconvert_exporter": "python",
   "pygments_lexer": "ipython3",
   "version": "3.10.9"
  },
  "orig_nbformat": 4
 },
 "nbformat": 4,
 "nbformat_minor": 2
}
