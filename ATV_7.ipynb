{
  "cells": [
    {
      "cell_type": "markdown",
      "metadata": {
        "id": "yIVZGrXlug58"
      },
      "source": [
        "# Atividade 7\n",
        "\n",
        "Planejamento de Sistemas Elétricos - PPEE\n",
        "\n",
        "Aluno: Alexandre Soares Altgott\n",
        "\n",
        "Matrícula: 102100645\n",
        "\n"
      ]
    },
    {
      "cell_type": "code",
      "execution_count": 21,
      "metadata": {},
      "outputs": [
        {
          "name": "stdout",
          "output_type": "stream",
          "text": [
            "['ADTERM.DAT', 'AGRINT.DAT', 'ARQUIVOS.DAT', 'BID.DAT', 'CASO.DAT', 'CDEFVAR.DAT', 'CLAST.DAT', 'CONFHD.DAT', 'CONFT.DAT', 'CURVA.DAT', 'CVAR.DAT', 'C_ADIC.DAT', 'DGER.DAT', 'DSVAGUA.DAT', 'ELNINO.DAT', 'ENSOAUX.DAT', 'EXPH.DAT', 'EXPT.DAT', 'FORMAT.TMP', 'GHMIN.DAT', 'GTMINPAT.DAT', 'GTMIN_CCEE_072023.xlsx', 'HIDR.DAT', 'ITAIPU.DAT', 'LOSS.DAT', 'MANUTT.DAT', 'MENSAG.TMP', 'MODIF.DAT', 'NewaveMsgPortug.txt', 'PATAMAR.DAT', 'PENALID.DAT', 'POSTOS.DAT', 'RE.DAT', 'REE.DAT', 'selcor.dat', 'SHIST.DAT', 'SISTEMA.DAT', 'tecno.dat', 'TERM.DAT', 'VAZOES.DAT', 'VAZPAST.DAT']\n"
          ]
        }
      ],
      "source": [
        "# from google.colab import drive, files\n",
        "import os\n",
        "\n",
        "#Montar o Google Drive no Colab com o nome gdrive\n",
        "\n",
        "Caminho_do_Arquivo = 'Dados_Newave_jul_2023/'\n",
        "\n",
        "# O comando abaixo mostra qual diretório você está trabalhando momento.\n",
        "# print( os.getcwd() )\n",
        "\n",
        "\n",
        "# O comando mostra o que está presente dentro da minha pasta GIF no meu drive, que está dentro do meu drive e em Doutorado. Mudar para o diretório que vocês criaram.\n",
        "print( os.listdir(Caminho_do_Arquivo) )"
      ]
    },
    {
      "cell_type": "code",
      "execution_count": 22,
      "metadata": {},
      "outputs": [
        {
          "name": "stdout",
          "output_type": "stream",
          "text": [
            "OK! Leitura do CASO.DAT realizada com sucesso.\n",
            "OK! Leitura do ARQUIVOS.DAT realizada com sucesso.\n",
            "OK! Leitura do DGER.DAT realizada com sucesso.\n",
            "OK! Leitura do HIDR.DAT realizada com sucesso.\n",
            "OK! Leitura do VAZOES.DAT realizada com sucesso.\n",
            "OK! Leitura do MODIF.DAT realizada com sucesso. ( 99 Usinas Hidraulicas Modificadas )\n",
            "OK! Leitura do EXPH.DAT realizada com sucesso. ( 2 Usinas Hidraulicas Expandidas )\n",
            "OK! Leitura do CONFHD.DAT realizada com sucesso.\n",
            "OK! Leitura do REE.DAT realizada com sucesso. ( 12 Reservatórios Equivalentes de Energia Foram Lidos )\n",
            "OK! Leitura do SISTEMA.DAT realizada com sucesso.\n"
          ]
        }
      ],
      "source": [
        "from PySDDP.Pen import Newave\n",
        "\n",
        "PMOSET2023 = Newave(Caminho_do_Arquivo)"
      ]
    },
    {
      "cell_type": "markdown",
      "metadata": {},
      "source": [
        "## Cálculo do Reservado Equivalente"
      ]
    },
    {
      "cell_type": "code",
      "execution_count": 23,
      "metadata": {},
      "outputs": [],
      "source": [
        "def CalculaTrecho(Usina,ano,mes):\n",
        "    \"\"\"\"\n",
        "    Função que calcula o trecho inteiro de um rio\n",
        "    \"\"\"\n",
        "\n",
        "    EA_max = 0\n",
        "    EA_atual = 0\n",
        "    ENA = 0\n",
        "    E_fio = 0\n",
        "    ro_fio = 0\n",
        "\n",
        "\n",
        "    # Salva o ro da primeira usina\n",
        "    ro = Usina['ro_equiv'][0][0]\n",
        "    if Usina['vol_max'] == Usina['vol_min']:\n",
        "        ro_fio += Usina['ro_65'][0][0]\n",
        "\n",
        "    # Verifica se há usina a jusante\n",
        "    if Usina['jusante'] != 0:\n",
        "\n",
        "        # Salva a usina a jusante e salva o seu ro\n",
        "        Usina2 = PMOSET2023.confhd.get(Usina['jusante'])\n",
        "\n",
        "        ro += Usina2['ro_equiv'][0][0] \n",
        "        if Usina2['vol_max'] == Usina2['vol_min']:\n",
        "            ro_fio += Usina2['ro_65'][0][0]\n",
        "\n",
        "        # Continua verificando se há usina a jusante e salvando o ro\n",
        "        while Usina2['jusante'] != 0:\n",
        "            Usina2 = PMOSET2023.confhd.get(Usina2['jusante'])\n",
        "            ro += Usina2['ro_equiv'][0][0] \n",
        "            if Usina2['vol_max'] == Usina2['vol_min']:\n",
        "                ro_fio += Usina2['ro_65'][0][0]\n",
        "\n",
        "        # Calcula a energia armazenada máxima e atual, a energia natural afluente e a energia fio d'agua da primeira usina\n",
        "        EA_max += (Usina['vol_max'] - Usina['vol_min'])*ro/2.63\n",
        "        EA_atual += (Usina['vol_max'] - Usina['vol_min'])*(Usina['vol_ini']/100)*ro/2.63\n",
        "        ENA += Usina['vazoes'][ano][mes]*Usina['ro_65'][0][0] \n",
        "        if Usina['vol_max'] == Usina['vol_min']:\n",
        "            E_fio = Usina['vazoes'][ano][mes]*ro_fio\n",
        "\n",
        "        vazao_ant = Usina['vazoes'][ano][mes]\n",
        "\n",
        "        # Calcula a energia armazenada máxima e atual, a energia natural afluente e a energia fio d'agua das usinas a jusante\n",
        "        while Usina['jusante'] != 0:\n",
        "            \n",
        "            Usina = PMOSET2023.confhd.get(Usina['jusante'])\n",
        "\n",
        "            vazao_atual = Usina['vazoes'][ano][mes]\n",
        "\n",
        "            vazao_inc = vazao_atual - vazao_ant\n",
        "\n",
        "            ro = 0\n",
        "            ro_fio = 0\n",
        "\n",
        "            ro += Usina['ro_equiv'][0][0] \n",
        "            if Usina['vol_max'] == Usina['vol_min']:\n",
        "                ro_fio += Usina['ro_65'][0][0]\n",
        "\n",
        "            if Usina['jusante'] != 0:\n",
        "\n",
        "                Usina2 = PMOSET2023.confhd.get(Usina['jusante'])\n",
        "\n",
        "                ro += Usina2['ro_equiv'][0][0] \n",
        "                if Usina2['vol_max'] == Usina2['vol_min']:\n",
        "                    ro_fio += Usina2['ro_65'][0][0]\n",
        "\n",
        "\n",
        "                while Usina2['jusante'] != 0:\n",
        "                    Usina2 = PMOSET2023.confhd.get(Usina2['jusante'])\n",
        "                    ro += Usina2['ro_equiv'][0][0] \n",
        "                    if Usina2['vol_max'] == Usina2['vol_min']:\n",
        "                        ro_fio += Usina2['ro_65'][0][0]\n",
        "\n",
        "            \n",
        "\n",
        "\n",
        "            EA_max += (Usina['vol_max'] - Usina['vol_min'])*ro/2.63\n",
        "            EA_atual += (Usina['vol_max'] - Usina['vol_min'])*(Usina['vol_ini']/100)*ro/2.63\n",
        "\n",
        "            ENA += Usina['vazoes'][ano][mes]*Usina['ro_65'][0][0] \n",
        "            if Usina['vol_max'] == Usina['vol_min']:\n",
        "                E_fio += vazao_inc*ro_fio\n",
        "                \n",
        "\n",
        "            vazao_ant = vazao_atual\n",
        "\n",
        "    # Caso não haja usina a jusante\n",
        "    else:\n",
        "\n",
        "        EA_max += (Usina['vol_max'] - Usina['vol_min'])*ro/2.63\n",
        "        EA_atual += (Usina['vol_max'] - Usina['vol_min'])*(Usina['vol_ini']/100)*ro/2.63\n",
        "        ENA += Usina['vazoes'][ano][mes]*Usina['ro_65'][0][0] \n",
        "        if Usina['vol_max'] == Usina['vol_min']:\n",
        "            E_fio = Usina['vazoes'][ano][mes]*ro_fio\n",
        "\n",
        "    return EA_max,EA_atual,ENA,E_fio"
      ]
    },
    {
      "cell_type": "code",
      "execution_count": 24,
      "metadata": {},
      "outputs": [],
      "source": [
        "def ReservatorioEquivalente(RevEqui,ano,mes):\n",
        "    \"\"\"\"\n",
        "    Função que calcula o reservatório equivalente\n",
        "    \"\"\"\n",
        "\n",
        "    EA_max = 0\n",
        "    EA_atual = 0\n",
        "    ENA = 0\n",
        "    E_fio = 0\n",
        "    ro_fio = 0\n",
        "\n",
        "    # Primeiras usinas de cada reservatório equivalente\n",
        "    if RevEqui == 2:\n",
        "        origem = [86, 88, 93, 97, 101, 110, 115, 215]\n",
        "    elif RevEqui == 4:\n",
        "        origem = [291]\n",
        "    elif RevEqui == 7:\n",
        "        origem = [227, 309]\n",
        "    elif RevEqui == 8:\n",
        "        origem = [272, 288, 314]\n",
        "    elif RevEqui == 9:\n",
        "        origem = [277, 286, 204]\n",
        "    \n",
        "    # Calcula o reservatório equivalente calculando cada trecho\n",
        "    for i in origem:\n",
        "        Usina = PMOSET2023.confhd.get(i)\n",
        "        EA_max2, EA_atual2, ENA2, E_fio2 = CalculaTrecho(Usina,ano,mes)\n",
        "        EA_max += EA_max2\n",
        "        EA_atual += EA_atual2\n",
        "        ENA += ENA2\n",
        "        E_fio += E_fio2\n",
        "\n",
        "    return EA_max,EA_atual,ENA,E_fio"
      ]
    },
    {
      "cell_type": "markdown",
      "metadata": {},
      "source": [
        "## Problema de Despacho"
      ]
    },
    {
      "cell_type": "markdown",
      "metadata": {},
      "source": [
        "Resolução do problema de despacho considerando reservatórios equivalentes.\n",
        "\n",
        "Será considerado o problema de despacho resolvido por um PL Único."
      ]
    },
    {
      "cell_type": "code",
      "execution_count": 25,
      "metadata": {},
      "outputs": [],
      "source": [
        "# Revervatorio Equivalente Utilizado\n",
        "REE = 9\n",
        "\n",
        "# Ano e Mês da Análise\n",
        "ano = -3\n",
        "mes = 0\n",
        "\n",
        "# Número de Estágios\n",
        "nr_est = 8\n",
        "\n",
        "# Chama a função de formação dos reservatorios equivalentes\n",
        "EA_max, EA_atual, ENA, E_fio = ReservatorioEquivalente(REE,ano,mes)\n",
        "\n",
        "EC = ENA - E_fio"
      ]
    },
    {
      "cell_type": "code",
      "execution_count": 26,
      "metadata": {},
      "outputs": [],
      "source": [
        "# Dados PYSDDP\n",
        "\n",
        "REEPYSDDP = PMOSET2023.ree.get(REE)\n",
        "\n",
        "E_fio_PYSDDP = REEPYSDDP['efio_bruta'][-1][mes][ano]\n",
        "EA_max_PYSDDP = REEPYSDDP['earmax'][0][0]\n",
        "ENA_PYSDDP = REEPYSDDP['ena_bruta'][-1][mes][ano]\n",
        "EC_PYSDDP = REEPYSDDP['ec'][-1][mes][ano]\n",
        "EA_atual_PYSDDP = '-'"
      ]
    },
    {
      "cell_type": "code",
      "execution_count": 27,
      "metadata": {},
      "outputs": [
        {
          "name": "stdout",
          "output_type": "stream",
          "text": [
            "               EA_max   EA_atual         ENA       E_fio          EC\n",
            "Calculado  785.951260  751.29081  690.784132  527.719132  163.065000\n",
            "PYSDDP     785.951233          -  690.784119  527.719116  163.065002\n"
          ]
        }
      ],
      "source": [
        "import pandas as pd\n",
        "\n",
        "\n",
        "\n",
        "# Cria um dataframe com os dados de EA_max, EA_atual, ENA, E_fio e EC\n",
        "tabela = pd.DataFrame({'EA_max':[EA_max,EA_max_PYSDDP],'EA_atual':[EA_atual,EA_atual_PYSDDP],'ENA':[ENA,ENA_PYSDDP],'E_fio':[E_fio,E_fio_PYSDDP],'EC':[EC,EC_PYSDDP]},index=['Calculado','PYSDDP'])\n",
        "\n",
        "\n",
        "\n",
        "print(tabela)"
      ]
    },
    {
      "cell_type": "code",
      "execution_count": 28,
      "metadata": {},
      "outputs": [],
      "source": [
        "# Revervatorio Equivalente Utilizado\n",
        "REE = 8\n",
        "\n",
        "# Ano e Mês da Análise\n",
        "ano = -3\n",
        "mes = 0\n",
        "\n",
        "# Número de Estágios\n",
        "nr_est = 8\n",
        "\n",
        "# Chama a função de formação dos reservatorios equivalentes\n",
        "EA_max, EA_atual, ENA, E_fio = ReservatorioEquivalente(REE,ano,mes)\n",
        "\n",
        "EC = ENA - E_fio"
      ]
    },
    {
      "cell_type": "code",
      "execution_count": 29,
      "metadata": {},
      "outputs": [],
      "source": [
        "# Dados PYSDDP\n",
        "\n",
        "REEPYSDDP = PMOSET2023.ree.get(REE)\n",
        "\n",
        "E_fio_PYSDDP = REEPYSDDP['efio_bruta'][-1][mes][ano]\n",
        "EA_max_PYSDDP = REEPYSDDP['earmax'][0][0]\n",
        "ENA_PYSDDP = REEPYSDDP['ena_bruta'][-1][mes][ano]\n",
        "EC_PYSDDP = REEPYSDDP['ec'][-1][mes][ano]\n",
        "EA_atual_PYSDDP = '-'"
      ]
    },
    {
      "cell_type": "code",
      "execution_count": 30,
      "metadata": {},
      "outputs": [
        {
          "name": "stdout",
          "output_type": "stream",
          "text": [
            "              EA_max   EA_atual          ENA        E_fio         EC\n",
            "Calculado  28.106717  27.752572  3504.467291  3467.370602  37.096689\n",
            "PYSDDP     28.106716          -  3504.467285  3467.370605  37.096687\n"
          ]
        }
      ],
      "source": [
        "\n",
        "# Cria um dataframe com os dados de EA_max, EA_atual, ENA, E_fio e EC\n",
        "tabela = pd.DataFrame({'EA_max':[EA_max,EA_max_PYSDDP],'EA_atual':[EA_atual,EA_atual_PYSDDP],'ENA':[ENA,ENA_PYSDDP],'E_fio':[E_fio,E_fio_PYSDDP],'EC':[EC,EC_PYSDDP]},index=['Calculado','PYSDDP'])\n",
        "\n",
        "\n",
        "\n",
        "print(tabela)"
      ]
    },
    {
      "cell_type": "code",
      "execution_count": 31,
      "metadata": {},
      "outputs": [],
      "source": [
        "# Revervatorio Equivalente Utilizado\n",
        "REE = 4\n",
        "\n",
        "# Chama a função de formação dos reservatorios equivalentes\n",
        "EA_max, EA_atual, ENA, E_fio = ReservatorioEquivalente(REE,ano,mes)"
      ]
    },
    {
      "cell_type": "code",
      "execution_count": 32,
      "metadata": {
        "id": "XyGru20zwivQ"
      },
      "outputs": [
        {
          "name": "stdout",
          "output_type": "stream",
          "text": [
            "{'Nome': '4', 'Pmax': 14380.893549978486, 'EAmax': 14380.893549978486, 'EAI': 14057.754627589591, 'EFIO': [375.8318219248564, 688.7788134546498, 1179.6181272094034, 618.7192037527675, 421.2017498944489, 221.99611266981975, 161.64355732422237], 'ENA': [4350.386804679025, 9123.380707143817, 15991.424863996868, 10951.964729705516, 6544.066213856947, 2724.961068910399, 1660.8948204597193]}\n"
          ]
        }
      ],
      "source": [
        "\n",
        "\n",
        "lista_uhe = []\n",
        "\n",
        "\n",
        "\n",
        "usina = {\n",
        "    \"Nome\": \"GT_1\",     # Nome da Usina Térmica 1\n",
        "    \"Capac\": 1500.,       # Capacidade Máxima de Geração MWMed\n",
        "    \"Custo\": 10.        # Custo de Operação $/MWMed\n",
        "}\n",
        "\n",
        "lista_ute = []\n",
        "\n",
        "lista_ute.append(usina)\n",
        "\n",
        "usina = {\n",
        "    \"Nome\": \"GT_2\",     # Nome da Usina Térmica 2\n",
        "    \"Capac\": 1000.,       # Capacidade Máxima de Geração MWmed\n",
        "    \"Custo\": 25.        # Custo de Operação $/MWMed\n",
        "}\n",
        "\n",
        "lista_ute.append(usina)\n",
        "\n",
        "\n",
        "\n",
        "\n",
        "# Pot_max = sum([1.087,8.370,,])\n",
        "\n",
        "REE1 = {\n",
        "    \"Nome\": str(REE), # Nome do REE\n",
        "    \"Pmax\": EA_max,             # Potência máxima nominal\n",
        "    \"EAmax\": EA_max,              # Energia armazenada máxima\n",
        "    \"EAI\": EA_atual               # Energia armazenada inicial\n",
        "}\n",
        "\n",
        "d_gerais = {\n",
        "    \"CDef\": 500.,             # Custo de Déficit $/MWMed\n",
        "    \"Carga\": [ 12000., 12000., 12000.,12000., 12000., 12000.,12000., 12000., 12000.,12000., 12000., 12000.], # Lista com carga a ser atendida por estágio\n",
        "    \"Nr_Disc\": 12,            # Número de Discretizações\n",
        "    \"Nr_Est\": nr_est-1,              # Número de Estágios\n",
        "    \"Nr_Cen\": 2 ,              # Número de Cenários de Afluências\n",
        "}\n",
        "\n",
        "REE1['EFIO'] = []\n",
        "REE1['ENA'] = []\n",
        "\n",
        "# Retorna a energia fio d'agua e a energia natural afluente para cada mês\n",
        "for i in range(mes,d_gerais['Nr_Est']+mes):\n",
        "    REE1['EFIO'].append(ReservatorioEquivalente(REE,ano,mes+i)[3])\n",
        "    REE1['ENA'].append(ReservatorioEquivalente(REE,ano,mes+i)[2])\n",
        "\n",
        "lista_uhe.append(REE1)\n",
        "\n",
        "\n",
        "sistema = {\n",
        "    \"DGer\": d_gerais,\n",
        "    \"UHE\": lista_uhe,\n",
        "    \"UTE\": lista_ute\n",
        "}\n",
        "print(REE1)"
      ]
    },
    {
      "cell_type": "markdown",
      "metadata": {
        "id": "QhlgPxIcgL_T"
      },
      "source": [
        "# Modelo de Otimização\n",
        "\n",
        "## Criação de uma Função para o Despacho Hidrotérmico\n",
        "\n",
        "**Função Objetivo (FOB)**\n",
        "\n",
        "$\t\tMin \\sum_{i=1}^{Nr\\_EST} \\left( \\left( \\sum_{j=1}^{Nr\\_UTE}  CO_j \\cdot gt_{i,j}\\right) + CDEF \\cdot def_{i} + \\left( \\sum_{j=1}^{Nr\\_REE}  0.01 \\cdot ev_{i,j}\\right) \\right) $\n",
        "\n",
        "**sujeito a:**\n",
        "\n",
        "**Balanço Hídrico (uma restrição para cada estágio $i$ e UHE $j$)**\n",
        "\n",
        "Caso $ i == 1 $:\n",
        "\n",
        "$ ea_{f_{1,j}} = EAI_j + ENA_{1,j} - e_{t_{1,j}} - e_{v_{1,j}} $\n",
        "\n",
        "Caso $ i \\ge 2 $:\n",
        "\n",
        "$ ea_{f_{i,j}} = ea_{f_{i-1,j}} + ENA_{i,j} - e_{t_{i,j}} - e_{v_{i,j}} $\n",
        "\n",
        "**Atendimento à Demanda (uma restrição para cada estágio $i$)**\n",
        "\n",
        "$  \\rho_j \\cdot e_{t_{i,j}}  +\n",
        "\t\t\t\t\\sum_{j}^{Num\\_UTE}\t\\left( g_{t_{i,j}} \\right) + def_i = CARGA_i $\n",
        "\n",
        "**Restrições de Canalização:**\n",
        "\n",
        "Para cada estágio $i$ e REE $j$:\n",
        "\n",
        "$EAMIN_j \\ge e_{f_{i,j}} \\ge EAMAX_j $\n",
        "\n",
        "$0 \\ge e_{t_{i,j}} \\ge ENGOL_j$\n",
        "\n",
        "$0 \\ge e_{v_{i,j}} \\ge \\infty $\n",
        "\n",
        "Para cada estágio $i$ e UTE $j$:\n",
        "\n",
        "$0 \\ge g_{t_{i,j}} \\ge GTMAX_j $\n",
        "\n",
        "Para cada estágio $i$:\n",
        "\n",
        "$ 0 \\ge def_i \\ge \\infty $\n"
      ]
    },
    {
      "cell_type": "code",
      "execution_count": 33,
      "metadata": {
        "id": "3rXcaKXzOndD"
      },
      "outputs": [],
      "source": [
        "from cvxopt.modeling import variable, solvers\n",
        "from cvxopt.modeling import op\n",
        "\n",
        "def pl_unico(sistema, cenario, imprime):\n",
        "\n",
        "  #\n",
        "  # Cria função de despacho hidrotérmico\n",
        "  #\n",
        "\n",
        "  Num_UHE = len(sistema[\"UHE\"])\n",
        "\n",
        "  Num_UTE = len(sistema[\"UTE\"])\n",
        "\n",
        "\n",
        "\n",
        "  eaf = []\n",
        "  ghidr = []\n",
        "  ev = []\n",
        "  for i,iusi in enumerate(sistema[\"UHE\"]):\n",
        "    eaf.append(variable(sistema[\"DGer\"][\"Nr_Est\"], \"Volume Final na Usina \"+iusi[\"Nome\"]))\n",
        "    ghidr.append(variable(sistema[\"DGer\"][\"Nr_Est\"], \"Volume Turbinado na Usina \"+iusi[\"Nome\"]))\n",
        "    ev.append(variable(sistema[\"DGer\"][\"Nr_Est\"], \"Volume Vertido na Usina \"+iusi[\"Nome\"]))\n",
        "  gt = []\n",
        "  for i,iusi in enumerate(sistema[\"UTE\"]):\n",
        "    gt.append(variable(sistema[\"DGer\"][\"Nr_Est\"], \"Geração na Usina Térmica \"+iusi[\"Nome\"]))\n",
        "  deficit = variable(sistema[\"DGer\"][\"Nr_Est\"], \"Déficit de Energia no Sistema\")\n",
        "\n",
        "  #\n",
        "  # Construção da Função Objetivo\n",
        "  #\n",
        "\n",
        "  fob = 0\n",
        "\n",
        "  for i_est in range(sistema[\"DGer\"][\"Nr_Est\"]):\n",
        "    for i, iusi in enumerate(sistema[\"UTE\"]):\n",
        "      fob += iusi['Custo']*gt[i][i_est]\n",
        "\n",
        "    fob += sistema[\"DGer\"][\"CDef\"]*deficit[i_est]\n",
        "\n",
        "    for i, iusi in enumerate(sistema[\"UHE\"]):\n",
        "      fob += 0.01*ev[i][i_est]\n",
        "\n",
        "  #\n",
        "  # Definição das Restrições\n",
        "  #\n",
        "\n",
        "  restricoes = []\n",
        "\n",
        "  #\n",
        "  # Balanço Hídrico\n",
        "  #\n",
        "\n",
        "  for i, iusi in enumerate(sistema[\"UHE\"]):\n",
        "    for i_est in range(sistema[\"DGer\"][\"Nr_Est\"]):\n",
        "      if i_est == 0:\n",
        "        restricoes.append( eaf[i][i_est] == float(iusi[\"EAI\"]) + float(iusi[\"ENA\"][i_est]) - float(iusi[\"EFIO\"][i_est]) - ghidr[i][i_est] - ev[i][i_est])\n",
        "      else:\n",
        "        restricoes.append( eaf[i][i_est]  ==  eaf[i][i_est-1]  + float(iusi[\"ENA\"][i_est]) - float(iusi[\"EFIO\"][i_est]) - ghidr[i][i_est] - ev[i][i_est])\n",
        "\n",
        "  #\n",
        "  # Atendimento à Demanda\n",
        "  #\n",
        "\n",
        "  for i_est in range(sistema[\"DGer\"][\"Nr_Est\"]):\n",
        "    AD = 0\n",
        "    for i,iusi in enumerate(sistema[\"UHE\"]):\n",
        "      AD += ghidr[i][i_est]\n",
        "    for i,usi in enumerate(sistema[\"UTE\"]):\n",
        "      AD += gt[i][i_est]\n",
        "    AD += deficit[i_est]\n",
        "    AD += float(iusi[\"EFIO\"][i_est])\n",
        "    restricoes.append( AD == sistema[\"DGer\"][\"Carga\"][i_est])\n",
        "\n",
        "  #\n",
        "  # Restricoes Canalização\n",
        "  #\n",
        "\n",
        "  for i_est in range(sistema[\"DGer\"][\"Nr_Est\"]):\n",
        "    for i, iusi in enumerate(sistema[\"UHE\"]):\n",
        "      restricoes.append(eaf[i][i_est] >= 0)\n",
        "      restricoes.append(eaf[i][i_est] <= float(iusi[\"EAmax\"]))\n",
        "      restricoes.append(ghidr[i][i_est] >= 0)\n",
        "      restricoes.append(ghidr[i][i_est] <= float(iusi[\"Pmax\"]) - float(iusi[\"EFIO\"][i_est]))\n",
        "      restricoes.append(ev[i][i_est] >= 0)\n",
        "    for i, iusi in enumerate(sistema[\"UTE\"]):\n",
        "      restricoes.append(gt[i][i_est] >= 0)\n",
        "      restricoes.append(gt[i][i_est] <= iusi[\"Capac\"])\n",
        "    restricoes.append(deficit[i_est] >= 0)\n",
        "\n",
        "  #\n",
        "  # Cria problema de otimização\n",
        "  #\n",
        "\n",
        "  problema = op(fob,restricoes)\n",
        "\n",
        "  #\n",
        "  # Chama solver GLPK e resolve o problema de otimização linear\n",
        "  #\n",
        "\n",
        "  problema.solve('dense','glpk')\n",
        "\n",
        "\n",
        "  #\n",
        "  # Prepara dicionário de dados com resultados\n",
        "  #\n",
        "\n",
        "  lista_uhe = []\n",
        "  for i, iusi in enumerate(sistema[\"UHE\"]):\n",
        "    pula = i*sistema[\"DGer\"][\"Nr_Est\"]\n",
        "    cma = []\n",
        "    volf = []\n",
        "    volt = []\n",
        "    volv = []\n",
        "    for iest in range(sistema[\"DGer\"][\"Nr_Est\"]):\n",
        "      cma.append(restricoes[pula+i_est].multiplier.value[0])\n",
        "      volf.append(eaf[i][iest].value()[0])\n",
        "      volt.append(ghidr[i][iest].value()[0])\n",
        "      volv.append(ev[i][iest].value()[0])\n",
        "    elemento = {\n",
        "        \"eaf\": volf,\n",
        "        \"gerhidr\": volt,\n",
        "        \"ev\": volv,\n",
        "        \"cma\": cma\n",
        "    }\n",
        "    lista_uhe.append(elemento)\n",
        "\n",
        "  lista_ute = []\n",
        "  for i, iusi in enumerate(sistema[\"UTE\"]):\n",
        "    gerter = []\n",
        "    for iest in range(sistema[\"DGer\"][\"Nr_Est\"]):\n",
        "      gerter.append(gt[i][iest].value()[0])\n",
        "    elemento = {\n",
        "        \"gt\": gerter,\n",
        "    }\n",
        "    lista_ute.append(elemento)\n",
        "\n",
        "  pula = Num_UHE*sistema[\"DGer\"][\"Nr_Est\"]\n",
        "  cmo = []\n",
        "  for i_est in range(sistema[\"DGer\"][\"Nr_Est\"]):\n",
        "    cmo.append(restricoes[pula+i_est].multiplier.value[0])\n",
        "\n",
        "  Dger = {\n",
        "      \"CustoTotal\": fob.value()[0],\n",
        "      \"CMO\": cmo\n",
        "  }\n",
        "\n",
        "  resultado = {\n",
        "    \"DGer\": Dger,\n",
        "    \"UHE\": lista_uhe,\n",
        "    \"UTE\": lista_ute\n",
        "  }\n",
        "\n",
        "\n",
        "  return(resultado)\n"
      ]
    },
    {
      "cell_type": "markdown",
      "metadata": {
        "id": "JROdHexudGB0"
      },
      "source": [
        "## Programa Principal\n",
        "\n",
        "Utiliza a função pl_unico e plota gráficos\n",
        "\n"
      ]
    },
    {
      "cell_type": "code",
      "execution_count": 34,
      "metadata": {},
      "outputs": [
        {
          "name": "stdout",
          "output_type": "stream",
          "text": [
            "{'CustoTotal': 1822241.7188188164, 'CMO': [-24.99999999999999, -24.99999999999999, -25.0, -25.0, -500.0, -500.0, -500.0]}\n"
          ]
        },
        {
          "data": {
            "text/plain": [
              "<matplotlib.legend.Legend at 0x210a5a22020>"
            ]
          },
          "execution_count": 34,
          "metadata": {},
          "output_type": "execute_result"
        },
        {
          "data": {
            "image/png": "[encoded data removed]",
            "text/plain": [
              "<Figure size 1000x800 with 1 Axes>"
            ]
          },
          "metadata": {},
          "output_type": "display_data"
        },
        {
          "data": {
            "image/png": "[encoded data removed]",
            "text/plain": [
              "<Figure size 1000x800 with 1 Axes>"
            ]
          },
          "metadata": {},
          "output_type": "display_data"
        },
        {
          "data": {
            "image/png": "[encoded data removed]",
            "text/plain": [
              "<Figure size 1000x800 with 1 Axes>"
            ]
          },
          "metadata": {},
          "output_type": "display_data"
        }
      ],
      "source": [
        "import numpy as np\n",
        "import matplotlib.pyplot as plt\n",
        "\n",
        "\n",
        "print(pl_unico(sistema, 0, imprime=False)['DGer'])\n",
        "\n",
        "resultado = pl_unico(sistema, 0, imprime=False)\n",
        "\n",
        "x = np.linspace(0, sistema['DGer']['Nr_Est'], sistema['DGer']['Nr_Est'])\n",
        "\n",
        "\n",
        "plt.figure(figsize=(10,8))\n",
        "plt.title(\"Energia Armazenada Final\", fontsize=16)\n",
        "plt.plot( x, resultado['UHE'][0]['eaf'] , marker='d',color='red',label = 'Média')\n",
        "plt.xlabel('Estágio', fontsize=14)\n",
        "plt.ylabel('Energia Armazenada', fontsize=14)\n",
        "\n",
        "plt.figure(figsize=(10,8))\n",
        "plt.title(\"Energia Vertida\", fontsize=16)\n",
        "plt.plot( x, resultado['UHE'][0]['ev'] , marker='d',color='red',label = 'Média')\n",
        "plt.xlabel('Estágio', fontsize=14)\n",
        "plt.ylabel('Energia', fontsize=14)\n",
        "\n",
        "plt.figure(figsize=(10,8))\n",
        "plt.title(\"Geração por REE e Térmicas\", fontsize=16)\n",
        "plt.plot( x, resultado['UHE'][0]['gerhidr'],color='blue',label = 'Geração Hidráulica')\n",
        "for i, usi in enumerate(sistema['UTE']):\n",
        "    plt.plot( x, resultado['UTE'][i]['gt'],label = 'Geração Térmica'+str(i))\n",
        "plt.xlabel('Estágio', fontsize=14)\n",
        "plt.ylabel('Geração', fontsize=14)\n",
        "plt.legend()"
      ]
    }
  ],
  "metadata": {
    "colab": {
      "provenance": []
    },
    "kernelspec": {
      "display_name": "Python 3",
      "name": "python3"
    },
    "language_info": {
      "codemirror_mode": {
        "name": "ipython",
        "version": 3
      },
      "file_extension": ".py",
      "mimetype": "text/x-python",
      "name": "python",
      "nbconvert_exporter": "python",
      "pygments_lexer": "ipython3",
      "version": "3.10.9"
    }
  },
  "nbformat": 4,
  "nbformat_minor": 0
}
